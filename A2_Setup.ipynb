{
 "cells": [
  {
   "cell_type": "markdown",
   "metadata": {},
   "source": [
    "# Setting Up"
   ]
  },
  {
   "cell_type": "markdown",
   "metadata": {},
   "source": [
    "## Copyright notice\n",
    "\n",
    "This version (c) 2019 Fabian Offert, [MIT License](LICENSE)."
   ]
  },
  {
   "cell_type": "markdown",
   "metadata": {},
   "source": [
    "## Installation\n",
    "\n",
    "Welcome to the practical part of the [ESU workshop \"Images of Image Machines. Theory and Practice of Interpretable Machine Learning for the Digital Humanities\n",
    "](https://github.com/zentralwerkstatt/teaching/blob/master/esu.md). Below you will find the necessary steps to setup your system to run the code that we will analyze and develop in the workshop. We will utilize an established combination of tools that is being used by many developers working experimentally on machine learning problems, consisting of the \n",
    "\n",
    "- [Python](https://python.org) 3 programming language, the\n",
    "- [Anaconda](https://www.anaconda.com) data science distribution,\n",
    "- [Numpy](http://www.numpy.org/), a library for fast numerical operations, the\n",
    "- [Jupyter Lab](https://github.com/jupyterlab/jupyterlab) literal programming system, and the\n",
    "- [PyTorch](https://pytorch.org/) machine learning framework.\n",
    "\n",
    "To set up this system, follow these steps:"
   ]
  },
  {
   "cell_type": "markdown",
   "metadata": {},
   "source": [
    "## On your machine\n",
    "\n",
    "1. Download the installer package for [Miniconda 3](https://conda.io/en/master/miniconda.html) for your respective operating system and install Miniconda.\n",
    "2. Open a terminal and create a new [conda environment](https://conda.io/projects/conda/en/latest/user-guide/tasks/manage-environments.html) with the command `conda create -n esu2019`.\n",
    "3. Activate the environment: `conda activate esu2019`.\n",
    "4. Install [Juypter](https://jupyter.org/) and [Jupyter Lab](https://github.com/jupyterlab/jupyterlab): `conda install jupyter jupyterlab`.\n",
    "5. Install [PyTorch](https://pytorch.org/) : `conda install pytorch torchvision -c pytorch` (Windows: `conda install pytorch-cpu torchvision-cpu -c pytorch`). We assume that no GPU is available and thus install it without CUDA support. A CUDA enabled server with a GeForce 1080ti GPU will be made availabe on request to run computationally expensive and/or highly customized code.\n",
    "6. Install all other dependencies (run one after another):\n",
    "```\n",
    "conda install -c conda-forge nodejs ipywidgets umap-learn\n",
    "jupyter labextension install @jupyter-widgets/jupyterlab-manager\n",
    "conda install scipy matplotlib beautifulsoup4 requests scikit-image\n",
    "pip install face_recognition kaggle\n",
    "```\n",
    "7. You might need to install Git, depending on your system configuration. You also may need cmake (`pip install cmake`) to install the `face_recognition` library.\n",
    "8. Clone the [workshop repository](https://github.com/zentralwerkstatt/ESU): `git clone https://github.com/zentralwerkstatt/esu2019.git`.\n",
    "\n",
    "If everything worked, you should be able to run `jupyter-lab` without errors. A browser window will open with the Jupyter Lab interface. There, by clicking the \"File\" menu and the selecting \"New/Notebook\", a new Juypter notebook will open. Click on the first cell and enter `print('Hello world!')`, then press `Ctrl + Enter`. The text \"Hello world!\" will be printed below the cell. Congratulations, you are all set up!"
   ]
  },
  {
   "cell_type": "markdown",
   "metadata": {},
   "source": [
    "## On the Server\n",
    "\n",
    "- The server lives at https://pc.zentralwerkstatt.org:9994 (do not forget the https, otherwise it will not work)\n",
    "- It runs the same version of JupyterLab that you run locally\n",
    "- In the `users` folder you will find a full copy of our workshop repository. You can create your own notebooks on the server *only within your user folder*.\n",
    "- Because this is a shared environment with little oversight, please only use the server during the workshop meetings. If you would like to run code outside of the meetings, please let me know beforehand so we can make sure notebooks do not interfere with each other."
   ]
  }
 ],
 "metadata": {
  "kernelspec": {
   "display_name": "Python 3",
   "language": "python",
   "name": "python3"
  },
  "language_info": {
   "codemirror_mode": {
    "name": "ipython",
    "version": 3
   },
   "file_extension": ".py",
   "mimetype": "text/x-python",
   "name": "python",
   "nbconvert_exporter": "python",
   "pygments_lexer": "ipython3",
   "version": "3.7.3"
  }
 },
 "nbformat": 4,
 "nbformat_minor": 4
}
