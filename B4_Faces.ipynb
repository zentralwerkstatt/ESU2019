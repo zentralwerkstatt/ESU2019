{
 "cells": [
  {
   "cell_type": "markdown",
   "metadata": {},
   "source": [
    "# Applied Face Detection"
   ]
  },
  {
   "cell_type": "markdown",
   "metadata": {},
   "source": [
    "## Copyright notice\n",
    "\n",
    "This version (c) 2019 Fabian Offert, [MIT License](LICENSE)."
   ]
  },
  {
   "cell_type": "markdown",
   "metadata": {},
   "source": [
    "## Imports"
   ]
  },
  {
   "cell_type": "code",
   "execution_count": 33,
   "metadata": {},
   "outputs": [],
   "source": [
    "import sys\n",
    "import os\n",
    "sys.path.append('lib/')\n",
    "from esu_util import show_img, np_PIL, PIL_np\n",
    "import face_recognition\n",
    "from tqdm import tqdm_notebook"
   ]
  },
  {
   "cell_type": "markdown",
   "metadata": {},
   "source": [
    "Read image files in our dataset."
   ]
  },
  {
   "cell_type": "code",
   "execution_count": 40,
   "metadata": {},
   "outputs": [
    {
     "name": "stdout",
     "output_type": "stream",
     "text": [
      "64780 images found\n"
     ]
    }
   ],
   "source": [
    "img_files = []\n",
    "for root, dirs, files in os.walk('/home/fabian/datasets-live/moma/images'):\n",
    "    for file in files:\n",
    "        if file.endswith('.jpg'):\n",
    "            img_files.append(f'{root}/{file}')\n",
    "print(f'{len(img_files)} images found')\n",
    "img_files = img_files[:100]"
   ]
  },
  {
   "cell_type": "markdown",
   "metadata": {},
   "source": [
    "## Detect all faces and write to files"
   ]
  },
  {
   "cell_type": "code",
   "execution_count": null,
   "metadata": {},
   "outputs": [],
   "source": [
    "savepoint = 0\n",
    "border = 50 # Border around face in percent of face size\n",
    "if not os.path.exists('faces_small'): os.makedirs('faces_small')\n",
    "\n",
    "faces = 0\n",
    "for n, path in enumerate(tqdm_notebook(img_files[savepoint:])):\n",
    "\n",
    "    image = face_recognition.load_image_file(path)\n",
    "    \n",
    "    print(image.shape)\n",
    "    \n",
    "    face_locations = face_recognition.face_locations(image, number_of_times_to_upsample=0, model=\"cnn\")\n",
    "    \n",
    "    for face_nr, face_location in enumerate(face_locations):\n",
    "        \n",
    "        try:\n",
    "                        \n",
    "            top, right, bottom, left = face_location\n",
    "\n",
    "            h = bottom-top\n",
    "            w = right-left\n",
    "\n",
    "            top -= int((h/100)*border)\n",
    "            if top < 0: top = 0\n",
    "\n",
    "            bottom += int((h/100)*border)\n",
    "            if bottom > image.shape[0]: bottom = image.shape[0]\n",
    "\n",
    "            left -= int((w/100)*border)\n",
    "            if left < 0: left = 0\n",
    "\n",
    "            right += int((w/100)*border)\n",
    "            if right > image.shape[1]: bottom = image.shape[1]\n",
    "\n",
    "            faces+=1\n",
    "            file = path.split('/')[-1]\n",
    "            face_file = f'faces_small/{file}_{face_nr+1}_{len(face_locations)}.jpg'\n",
    "            pil_image = np_PIL(image[top:bottom, left:right])\n",
    "            pil_image.save(face_file)\n",
    "        \n",
    "        except:\n",
    "            continue\n",
    "                \n",
    "print(f'Found {faces} faces')"
   ]
  }
 ],
 "metadata": {
  "kernelspec": {
   "display_name": "Python 3",
   "language": "python",
   "name": "python3"
  },
  "language_info": {
   "codemirror_mode": {
    "name": "ipython",
    "version": 3
   },
   "file_extension": ".py",
   "mimetype": "text/x-python",
   "name": "python",
   "nbconvert_exporter": "python",
   "pygments_lexer": "ipython3",
   "version": "3.7.3"
  }
 },
 "nbformat": 4,
 "nbformat_minor": 4
}
