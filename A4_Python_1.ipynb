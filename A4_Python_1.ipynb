{
 "cells": [
  {
   "cell_type": "markdown",
   "metadata": {},
   "source": [
    "# Python for Machine Learning I"
   ]
  },
  {
   "cell_type": "markdown",
   "metadata": {},
   "source": [
    "## Copyright notice\n",
    "\n",
    "This version (c) 2019 Fabian Offert, [MIT License](LICENSE)."
   ]
  },
  {
   "cell_type": "markdown",
   "metadata": {},
   "source": [
    "## Introduction\n",
    "\n",
    "From the official Python docs:\n",
    "\n",
    "> Python is an easy to learn, powerful programming language. It has efficient high-level data structures and a simple but effective approach to object-oriented programming. Python’s elegant syntax and dynamic typing, together with its interpreted nature, make it an ideal language for scripting and rapid application development in many areas on most platforms.\n",
    "\n",
    "These are the reasons why we and many machine learning researchers have chosen Python for machine learning.\n",
    "\n",
    "We will very loosely follow the official Python 3.7 tutorial which is available [here](https://docs.python.org/3/tutorial/index.html). This document, however, will only contain/link to the parts of the language that we explicitly discuss in class.\n",
    "\n",
    "Python is a well-documented language. Everything you need to know about the core language is in the official [docs](https://docs.python.org/3), and everything you need to know about the few libraries we will actively use can be found in their respective docs."
   ]
  },
  {
   "cell_type": "markdown",
   "metadata": {},
   "source": [
    "## Comments\n",
    "\n",
    "A comment will not be executed, even if it contains executable code."
   ]
  },
  {
   "cell_type": "code",
   "execution_count": 8,
   "metadata": {},
   "outputs": [],
   "source": [
    "# This is a comment. It starts with a hash sign."
   ]
  },
  {
   "cell_type": "markdown",
   "metadata": {},
   "source": [
    "## Imports\n",
    "\n",
    "Python is a modular language. This means most of the useful extensions of the language will come as libraries that you will need to install and import. Fortunately, as we are using the Anaconda distribution and are working inside an environment, this is easy. Simply install the respective package in your environment and then run `import package`. For packages that are used really frequently in the code, you can also change the name to something shorter with the `as` keyword, for instance: `import torchvision as tv`. You can also import only parts of a package with the `from` keyword."
   ]
  },
  {
   "cell_type": "code",
   "execution_count": 9,
   "metadata": {},
   "outputs": [],
   "source": [
    "import numpy as np"
   ]
  },
  {
   "cell_type": "markdown",
   "metadata": {},
   "source": [
    "## Simple data types\n",
    "\n",
    "While the technical reality is a bit more complicated, we can regard variables as *signs that holds values*. In Python, we can assign a value to a sign with the equality operator: `a = 1`. Variables can hold many different kinds of values, integers (`a = 1`), floating point numbers (`a = 1.5`), words (`a = 'foo'`), truth values (`True`or `False`) vectors, matrices, or even complicated structures made up of many different kinds of values. Python also offers built-in support for more complex data types, for instance (literally) complex numbers (a = 3+2j`) or very large/small numbers in scientific notation (a = 2e-10`). However, Python is a [weakly-typed](https://en.wikipedia.org/wiki/Type_system) language. In practice, this means that we do not have to tell the interpreter what kind of value we are assigning to a sign, it will infer this for us.\n",
    "\n",
    "There are many different way to \"look into\" a variable, i.e. see what value it is holding at a certain point in the execution of the program. A very easy way is to just print its value to the console/notebook. In Python, we use the `print` function for this purpose: `print(a)`."
   ]
  },
  {
   "cell_type": "code",
   "execution_count": 17,
   "metadata": {},
   "outputs": [
    {
     "name": "stdout",
     "output_type": "stream",
     "text": [
      "1 1.0 One (1+2j) 2e-10 True\n"
     ]
    }
   ],
   "source": [
    "a = 1 # Int\n",
    "b = 1.0 # Float\n",
    "c = 'One' # String\n",
    "d = 1+2j # Complex number\n",
    "e = 2e-10 # Scientific notation for very large/small values\n",
    "f = True # Boolean\n",
    "print(a, b, c, d, e, f)"
   ]
  },
  {
   "cell_type": "markdown",
   "metadata": {},
   "source": [
    "As variables can hold values, we can use them algebraically, almost exactly like we would without a computer. For instance, we could calculate the sum of `a=4`and `b=2` by assigning it to `c`: `c=a+b`. `print`ing `c` will give us the result: `6`. Many other algebraic operations are possible."
   ]
  },
  {
   "cell_type": "code",
   "execution_count": 27,
   "metadata": {},
   "outputs": [],
   "source": [
    "a = 4\n",
    "b = 2"
   ]
  },
  {
   "cell_type": "code",
   "execution_count": 22,
   "metadata": {},
   "outputs": [
    {
     "name": "stdout",
     "output_type": "stream",
     "text": [
      "6\n",
      "2\n",
      "8\n",
      "16\n",
      "2.0\n",
      "2\n",
      "0\n"
     ]
    }
   ],
   "source": [
    "print(a + b)\n",
    "print(a - b)\n",
    "print(a*b) # Multiplication\n",
    "print(a**b) # Power\n",
    "print(a/b) # Division always returns a floating point number\n",
    "print(a//b) # Floor division\n",
    "print(a%b) # Modulo (remainder)"
   ]
  },
  {
   "cell_type": "markdown",
   "metadata": {},
   "source": [
    "## Truth values\n",
    "\n",
    "We can also obtain truth values from algebraic statements using variables. For instance, to check for equality, we use the `==`operator:"
   ]
  },
  {
   "cell_type": "code",
   "execution_count": 28,
   "metadata": {},
   "outputs": [
    {
     "name": "stdout",
     "output_type": "stream",
     "text": [
      "False\n",
      "True\n",
      "False\n",
      "True\n",
      "False\n"
     ]
    }
   ],
   "source": [
    "print(a == b)\n",
    "print(a > b)\n",
    "print(a < b)\n",
    "print(a >= b)\n",
    "print(a <= b)"
   ]
  },
  {
   "cell_type": "markdown",
   "metadata": {},
   "source": [
    "## <font color='red'>Exercises</font>\n",
    "\n",
    "1. Solve the following calculation with variables and print the result: $5^2 \\times (\\frac{5}{3} + 5)$\n",
    "2. Assign the result to a new variable and test if it is smaller than 200 *and* larger than 100\n",
    "3. Test if it is divisible by 3 (the result should be a truth value)."
   ]
  },
  {
   "cell_type": "markdown",
   "metadata": {},
   "source": [
    "## Lists\n",
    "\n",
    "One of the most convenient things in Python is its handling of lists, a compound data type. You can put almost anything between square brackets and pass it to a function to process. Items in a list usually have the same type, although they can also be of different types. Here are lists of integers and strings, respectively."
   ]
  },
  {
   "cell_type": "code",
   "execution_count": 47,
   "metadata": {
    "scrolled": true
   },
   "outputs": [
    {
     "name": "stdout",
     "output_type": "stream",
     "text": [
      "[1, 2, 3, 4, 5]\n",
      "['foo', 'bar', 'baz']\n"
     ]
    }
   ],
   "source": [
    "int_list = [1, 2, 3, 4, 5]\n",
    "string_list = ['foo', 'bar', 'baz']\n",
    "print(int_list)\n",
    "print(string_list)"
   ]
  },
  {
   "cell_type": "markdown",
   "metadata": {},
   "source": [
    "The most important feature of lists and similar compound data types - one that we will encounter over and over - is *slicing*. Slicing a list means returning just a part of it. This is done with the colon operator. For instance, to just return the first element of our integer list, we can write `int_list[0]` (in programming, we are almost always counting from 0, not from 1). The second element can be returned by `int_list[1]`, etc.. But we can also access parts of lists in a more dynamic fashion:"
   ]
  },
  {
   "cell_type": "code",
   "execution_count": 51,
   "metadata": {},
   "outputs": [
    {
     "name": "stdout",
     "output_type": "stream",
     "text": [
      "[1, 2]\n",
      "[3, 4, 5]\n",
      "[1, 2, 3, 4, 5]\n"
     ]
    }
   ],
   "source": [
    "print(int_list[:2]) # 1 2, the \"first two\" elements\n",
    "print(int_list[2:]) # 3 4 5, everything but the \"first two\" elements\n",
    "print(int_list[:])"
   ]
  },
  {
   "cell_type": "markdown",
   "metadata": {},
   "source": [
    "Lists are *mutable*, we can replace arbitrary elements by assigning a new value to them:\n",
    "\n",
    "\n"
   ]
  },
  {
   "cell_type": "code",
   "execution_count": 52,
   "metadata": {},
   "outputs": [
    {
     "name": "stdout",
     "output_type": "stream",
     "text": [
      "[100, 2, 3, 4, 5]\n"
     ]
    }
   ],
   "source": [
    "int_list[0] = 100\n",
    "print(int_list)"
   ]
  },
  {
   "cell_type": "markdown",
   "metadata": {},
   "source": [
    "We can also concatenate lists:"
   ]
  },
  {
   "cell_type": "code",
   "execution_count": 56,
   "metadata": {},
   "outputs": [
    {
     "name": "stdout",
     "output_type": "stream",
     "text": [
      "[100, 2, 3, 4, 5, 6, 6]\n"
     ]
    }
   ],
   "source": [
    "new_int_list = int_list[:2] + int_list[2:]\n",
    "print(new_int_list)"
   ]
  },
  {
   "cell_type": "markdown",
   "metadata": {},
   "source": [
    "Note that for all these examples we do not need to know how long the list is, or what is in it. If we *do* want to know how long a list is, we can use the `len` keyword: `len(new_int_list)` will return `4`. Slicing becomes more complicated but also more effective when we deal with multi-dimensional data types.\n",
    "\n",
    "A word of caution: single items from lists are treated as simple types, not single-item lists. Concretely, this means that `int_list[2] + int_list[-2]` will not return a new list but a value. To avoid this, we can either add extra brackets when dealing with single-item lists (`[int_list[2]] + [int_list[-2]]`) or use the `append` keyword to append items to a list:"
   ]
  },
  {
   "cell_type": "code",
   "execution_count": 8,
   "metadata": {},
   "outputs": [
    {
     "name": "stdout",
     "output_type": "stream",
     "text": [
      "7\n",
      "[3, 4]\n",
      "[100, 2, 3, 4, 5, 6]\n"
     ]
    }
   ],
   "source": [
    "# Be careful:\n",
    "\n",
    "print(int_list[2] + int_list[-2])\n",
    "\n",
    "# Instead:\n",
    "\n",
    "print([int_list[2]] + [int_list[-2]])\n",
    "\n",
    "# Or:\n",
    "\n",
    "int_list.append(6)\n",
    "print(int_list)"
   ]
  },
  {
   "cell_type": "markdown",
   "metadata": {},
   "source": [
    "## Flow control: if...(then)...else\n",
    "\n",
    "Do to anything productive you will need to control the flow of your program, i.e. you will need to control what is executed when (not in terms of time but in terms of order). In most cases, flow control decisions will be tied to the value of a variable. Accordingly, the most simple flow control measure you can take is to have the execution of a piece of code depend on the value of a variable. In Python, we use the if ... (then) ... else statements for this:"
   ]
  },
  {
   "cell_type": "code",
   "execution_count": 65,
   "metadata": {},
   "outputs": [
    {
     "name": "stdout",
     "output_type": "stream",
     "text": [
      "A is not zero\n"
     ]
    }
   ],
   "source": [
    "a = 1\n",
    "if (a == 0): \n",
    "    print('A is zero')\n",
    "else:\n",
    "    print('A is not zero')"
   ]
  },
  {
   "cell_type": "markdown",
   "metadata": {},
   "source": [
    "Note the colon dividing the statement into \"cause\" and \"effect\". `If`-statements can be arbitrarily complex, and contain, for instance, arguments chained through Boolean operators. In Python, Boolean operators are real words:\n",
    "\n"
   ]
  },
  {
   "cell_type": "code",
   "execution_count": 68,
   "metadata": {},
   "outputs": [
    {
     "name": "stdout",
     "output_type": "stream",
     "text": [
      "A is zero, b is one\n",
      "A or b or both are one\n"
     ]
    }
   ],
   "source": [
    "a = 0\n",
    "b = 1\n",
    "if (a == 0 and b==1): \n",
    "    print('A is zero, b is one')\n",
    "if (a == 1 or b==1): \n",
    "    print('A or b or both are one')"
   ]
  },
  {
   "cell_type": "markdown",
   "metadata": {},
   "source": [
    "All standard Boolean operators are available, many more can be obtained through libraries (and of course you can also build them by stacking standard operators)."
   ]
  },
  {
   "cell_type": "markdown",
   "metadata": {},
   "source": [
    "## Flow control: for\n",
    "\n",
    "If you are used to another programming language, the `for` loop in Python takes some getting used to but is actually much more convenient than, for instance, its C or C++ cousin. In Python, a `for` loop always processes a list. For the technically inclined: a `for` loop in Python is actually a `for each` loop. The basic function of a `for` loop is to run some code a number of times until a condition is met, usually until a predefined number of times has been reached. To print \"hello\" ten times, in Python we write:"
   ]
  },
  {
   "cell_type": "code",
   "execution_count": 77,
   "metadata": {},
   "outputs": [
    {
     "name": "stdout",
     "output_type": "stream",
     "text": [
      "1\n",
      "2\n",
      "3\n",
      "4\n",
      "5\n",
      "6\n",
      "7\n"
     ]
    }
   ],
   "source": [
    "for x in range(1,8):\n",
    "    print(x)"
   ]
  },
  {
   "cell_type": "markdown",
   "metadata": {},
   "source": [
    "Note that the `range` statement here defines a generator that produces a list of numbers. We will not cover generators in this class, so it it sufficient to know that generators always produce lists, just on eitem at a time."
   ]
  },
  {
   "cell_type": "code",
   "execution_count": 20,
   "metadata": {},
   "outputs": [
    {
     "name": "stdout",
     "output_type": "stream",
     "text": [
      "range(0, 10)\n",
      "[0, 1, 2, 3, 4, 5, 6, 7, 8, 9]\n"
     ]
    }
   ],
   "source": [
    "print(range(10))\n",
    "print(list(range(10)))"
   ]
  },
  {
   "cell_type": "markdown",
   "metadata": {},
   "source": [
    "If it is given only one argument, it will create a list that ranges from 0 to the argument. If it is given two, it will treat them as the lowest and highest values of the list. A third argument defines the step size."
   ]
  },
  {
   "cell_type": "code",
   "execution_count": 78,
   "metadata": {},
   "outputs": [
    {
     "name": "stdout",
     "output_type": "stream",
     "text": [
      "0\n",
      "2\n",
      "4\n",
      "6\n",
      "8\n"
     ]
    }
   ],
   "source": [
    "for x in range(0, 10, 2):\n",
    "    print(x)"
   ]
  },
  {
   "cell_type": "markdown",
   "metadata": {},
   "source": [
    "Also note the indentation: this is how Python knows that we are defining a new code block that should run \"inside\" the `for` loop. The same indentation is used for`if`-statements.\n",
    "\n",
    "As `for` loops always iterate over lists, we can very easily iterate over the elements of our integer list from before:"
   ]
  },
  {
   "cell_type": "code",
   "execution_count": 79,
   "metadata": {},
   "outputs": [
    {
     "name": "stdout",
     "output_type": "stream",
     "text": [
      "100\n",
      "2\n",
      "3\n",
      "4\n",
      "5\n",
      "6\n",
      "6\n"
     ]
    }
   ],
   "source": [
    "for x in int_list:\n",
    "    print(x)"
   ]
  },
  {
   "cell_type": "markdown",
   "metadata": {},
   "source": [
    "To get both the index and the value of a list item, we can use the `enumerate` function like this:"
   ]
  },
  {
   "cell_type": "code",
   "execution_count": 80,
   "metadata": {},
   "outputs": [
    {
     "name": "stdout",
     "output_type": "stream",
     "text": [
      "0 foo\n",
      "1 bar\n",
      "2 baz\n"
     ]
    }
   ],
   "source": [
    "for index, value in enumerate(string_list):\n",
    "    print(index, value)"
   ]
  },
  {
   "cell_type": "markdown",
   "metadata": {},
   "source": [
    "## <font color='red'>Exercises</font>\n",
    "\n",
    "1. Create a list containing the first 100 integers with the help of a `for` loop.\n",
    "2. Create two lists of randomly selected integers of the same size. Add the two lists and save the result in a third list with the help of a `for` loop (hint: `x = []` or `x = list()` creates an empty list).\n",
    "3. Iterate over this list and print all even numbers (hint: a number is even if it is divisible by 2). Advanced: in one line using list comprehension (no Google)."
   ]
  },
  {
   "cell_type": "markdown",
   "metadata": {},
   "source": [
    "## Functions\n",
    "\n",
    "Functions in Python mirror mathematical functions. They are defined as an operation over several arguments. In Python, the `def` keyword is used for this, followed by a colon and an indent the block that defines the function. Functions can take anything between zero and infinite arguments, listed in parentheses right after the function name. Arguments can be anything, even lists or other functions. Importantly, functions open up a new variable *scope*. This means, variables defined within the context of the function will not exist outside the function, including the arguments! Results computed by a function are returned to the part of the program that calls them with the `return` statement."
   ]
  },
  {
   "cell_type": "code",
   "execution_count": 94,
   "metadata": {},
   "outputs": [
    {
     "data": {
      "text/plain": [
       "3"
      ]
     },
     "execution_count": 94,
     "metadata": {},
     "output_type": "execute_result"
    }
   ],
   "source": [
    "def add(a, b):\n",
    "    result = a+b\n",
    "    return result\n",
    "add(1, 2)"
   ]
  },
  {
   "cell_type": "code",
   "execution_count": 97,
   "metadata": {},
   "outputs": [
    {
     "name": "stdout",
     "output_type": "stream",
     "text": [
      "Inside function 100\n",
      "Outside function 0\n"
     ]
    }
   ],
   "source": [
    "# Variable scopes are important!\n",
    "c = 0\n",
    "def add(a, b):\n",
    "    c = 100\n",
    "    print('Inside function', c)\n",
    "    return a + b\n",
    "add(1, 2) # Note that this is just called and does not print anything!\n",
    "print('Outside function', c)"
   ]
  },
  {
   "cell_type": "markdown",
   "metadata": {},
   "source": [
    "In python, arguments can have default values. This is exessively used in machine learning code. Default values make arguments optional."
   ]
  },
  {
   "cell_type": "code",
   "execution_count": 99,
   "metadata": {},
   "outputs": [
    {
     "name": "stdout",
     "output_type": "stream",
     "text": [
      "3\n",
      "101\n"
     ]
    }
   ],
   "source": [
    "def add(a, b=100):\n",
    "    return a + b\n",
    "print(add(1, 2))\n",
    "print(add(1))"
   ]
  },
  {
   "cell_type": "markdown",
   "metadata": {},
   "source": [
    "## <font color='red'>Exercises</font>\n",
    "\n",
    "1. Write a function that calculates the factorial of an integer ($\\displaystyle 5! = \\prod^{5}_{i=1} = 5 \\times 4 \\times 3 \\times 2 \\times 1$).\n",
    "3. Write a function that checks how many even numbers a list contains."
   ]
  }
 ],
 "metadata": {
  "kernelspec": {
   "display_name": "Python 3",
   "language": "python",
   "name": "python3"
  },
  "language_info": {
   "codemirror_mode": {
    "name": "ipython",
    "version": 3
   },
   "file_extension": ".py",
   "mimetype": "text/x-python",
   "name": "python",
   "nbconvert_exporter": "python",
   "pygments_lexer": "ipython3",
   "version": "3.7.3"
  }
 },
 "nbformat": 4,
 "nbformat_minor": 4
}
